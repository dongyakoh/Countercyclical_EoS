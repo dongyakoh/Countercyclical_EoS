{
 "cells": [
  {
   "cell_type": "markdown",
   "id": "aa820ebe",
   "metadata": {},
   "source": [
    "## Simple Version of Oberfield & Raval (2021) EMTC"
   ]
  },
  {
   "cell_type": "markdown",
   "id": "b1197ff4",
   "metadata": {},
   "source": [
    "- A large set of plants $I$ whose production function share a common, constant elasticity of subsitution between capital and labor $\n",
    "\\sigma$.\n",
    "- A plant produces output $Y_i$ from capital $K_i$ and labor $L_i$ using the following CES production function, $Y_i = F(K_i, L_i)$.\n",
    "- Plants are monopolistically competitive.\n",
    "- Consumers have Dixit-Stiglitz preference across goods, $Y = (\\sum_i Y_i^{\\frac{\\varepsilon-1}{\\varepsilon}} )^{\\frac{\\varepsilon}{\\varepsilon-1}}$ where $\\varepsilon$ indicates an elasticity of demand."
   ]
  },
  {
   "cell_type": "markdown",
   "id": "0cbf77c7",
   "metadata": {},
   "source": [
    "Demand for input variety becomes\n",
    "\\begin{align*}\n",
    "\\max &P Y - \\sum_i P_i Y_i \\\\\n",
    "Y &= (\\sum_i  Y_i^{\\frac{\\varepsilon-1}{\\varepsilon}} )^{\\frac{\\varepsilon}{\\varepsilon-1}}, \\quad \\varepsilon>1\n",
    "\\end{align*}\n",
    "This gives an optimal demand equation\n",
    "\\begin{align*}\n",
    "\\frac{Y_i}{Y} =  \\left(\\frac{P_i}{P}\\right)^{-\\varepsilon}\n",
    "\\end{align*}\n",
    "and aggregate price index is expressed as\n",
    "\\begin{align*}\n",
    "P = \\left(\\sum_i P_i^{1-\\varepsilon}\\right)^{\\frac{1}{1-\\varepsilon}}\n",
    "\\end{align*}\n"
   ]
  },
  {
   "cell_type": "markdown",
   "id": "5b8d248b",
   "metadata": {},
   "source": [
    "For each monopolistically competitive plant, the profit maximization problem becomes\n",
    "\n",
    "\\begin{align*}\n",
    "\\max & P_i Y_i - R K_i - W L_i \\\\\n",
    "\\text{s.t.,} \\quad Y_i &= Y \\left(\\frac{P_i}{P}\\right)^{-\\varepsilon}= F(K_i,L_i) \n",
    "\\end{align*}"
   ]
  },
  {
   "cell_type": "markdown",
   "id": "fd096418",
   "metadata": {},
   "source": [
    "The first-order conditions are\n",
    "\\begin{align*}\n",
    "\\lambda_i &= \\frac{\\varepsilon-1}{\\varepsilon}P_i \\\\\n",
    "R & = \\lambda_i F_K \\\\\n",
    "W& = \\lambda_i F_L\\\\\n",
    "\\end{align*}\n",
    "\n",
    "Firm sets the marginal revenue product factors as a markup over factor prices:\n",
    "\\begin{align*}\n",
    "P_i  F_K = \\frac{\\varepsilon}{\\varepsilon-1} R\\\\\n",
    "P_i  F_L = \\frac{\\varepsilon}{\\varepsilon-1} W\\\\\n",
    "\\end{align*}\n",
    "\n"
   ]
  },
  {
   "cell_type": "markdown",
   "id": "57ca37b0",
   "metadata": {},
   "source": [
    "When the production function is a constant returns to scale, the expediture on all inputs becomes\n",
    "\\begin{align*}\n",
    "R K_i + W L_i =  \\frac{\\varepsilon-1}{\\varepsilon} P_i [F_K K_i + F_L L_i] = \\frac{\\varepsilon-1}{\\varepsilon} P_i Y_i = \\frac{\\varepsilon-1}{\\varepsilon} P_i^{1-\\varepsilon} Y P^{\\varepsilon}\n",
    "\\end{align*}\n"
   ]
  },
  {
   "cell_type": "markdown",
   "id": "f132d096",
   "metadata": {},
   "source": [
    "## Plant-level and Aggregate Elasticity of Substitution"
   ]
  },
  {
   "cell_type": "markdown",
   "id": "6b111d1a",
   "metadata": {},
   "source": [
    "Let $\\alpha_i = \\frac{RK_i}{RK_i + WL_i}$ and $\\alpha = \\frac{RK}{RK + WL}$ denote the cost shares of capital for plant $i$ and in aggregate.\n",
    "\n",
    "Also, let $\\theta_i = \\frac{RK_i + WL_i}{\\sum_i RK_i + WL_i}$ denote plant $i$'s expenditure on capital and labor as a fraction of the aggregate expenditure.\n",
    "\n",
    "The elasticity of substitution between capital and labor for a plant $i$ and in aggregate are defined as\n",
    "\n",
    "\\begin{align*}\n",
    "\\sigma - 1 &= \\frac{d \\ln RK_i/WL_i}{d \\ln W/R} = \\frac{d \\ln \\alpha_i / (1-\\alpha_i)}{d \\ln W/R} = \\frac{1}{ \\alpha_i (1-\\alpha_i)}\\frac{d \\alpha_i}{d \\ln W/R} \\\\\n",
    "\\sigma^{agg} - 1 &= \\frac{d \\ln RK/WL}{d \\ln W/R} = \\frac{d \\ln \\alpha / (1-\\alpha)}{d \\ln W/R} = \\frac{1}{ \\alpha (1-\\alpha)}\\frac{d \\alpha}{d \\ln W/R}\n",
    "\\end{align*}"
   ]
  },
  {
   "cell_type": "markdown",
   "id": "83dc5009",
   "metadata": {},
   "source": [
    "The aggregate cost share of capital can be written as\n",
    "\\begin{align*}\n",
    "\\alpha = \\sum_i \\alpha_i \\theta_i\n",
    "\\end{align*}"
   ]
  },
  {
   "cell_type": "markdown",
   "id": "0ae14499",
   "metadata": {},
   "source": [
    "Then the aggregate elasticity of substitution can be expressed as\n",
    "\\begin{align*}\n",
    "\\alpha (1-\\alpha) (\\sigma^{agg} - 1) = \\frac{d \\alpha}{d \\ln W/R} &= \\sum_i \\frac{d \\alpha_i}{d \\ln W/R} \\theta_i + \\sum_i  \\alpha_i \\frac{d \\theta_i}{d \\ln W/R} \\\\\n",
    "&= \\sum_i \\alpha_i (1 - \\alpha_i) (\\sigma - 1) \\theta_i + \\sum_i  \\alpha_i \\theta_i \\frac{d \\ln \\theta_i}{d \\ln W/R}\n",
    "\\end{align*}\n",
    "The first term on the RHS indicates a plant-level substitution effect, while the second term indicates an across-plant reallocation effect."
   ]
  },
  {
   "cell_type": "markdown",
   "id": "62be15dc",
   "metadata": {},
   "source": [
    "<font color=red><b>If we have</b></font>\n",
    "\n",
    "\\begin{align*}\n",
    "\\frac{d \\ln \\theta_i}{d \\ln W/R} = (\\varepsilon -1)(\\alpha_i - \\alpha)\n",
    "\\end{align*}\n",
    "\n",
    "then we can express the aggregate elasticity of substitution as\n",
    "\n",
    "\\begin{align*}\n",
    "\\sigma^{agg} = (1 - \\chi) \\sigma + \\chi \\varepsilon\n",
    "\\end{align*}\n",
    "\n",
    "where $\\chi = \\sum_i \\frac{(\\alpha_i-\\alpha)^2}{\\alpha(1-\\alpha)}\\theta_i$.\n"
   ]
  },
  {
   "cell_type": "markdown",
   "id": "27d6cb70",
   "metadata": {},
   "source": [
    "When, \n",
    "\n",
    "\\begin{align*}\n",
    "\\chi &= \\sum_i \\frac{(\\alpha_i-\\alpha)^2}{\\alpha(1-\\alpha)}\\theta_i \\\\\n",
    "&= \\sum_i \\frac{(\\alpha_i^2 - \\alpha_i \\alpha + \\alpha^2 - \\alpha_i \\alpha) \\theta_i }{\\alpha(1-\\alpha)} \\\\\n",
    "&=  \\frac{\\sum_i \\alpha_i ( \\alpha_i - \\alpha)\\theta_i + \\sum_i (\\alpha^2 \\theta_i - \\alpha_i \\alpha \\theta_i) }{\\alpha(1-\\alpha)} \\\\\n",
    "&=  \\frac{\\sum_i \\alpha_i ( \\alpha_i - \\alpha)\\theta_i + \\alpha^2 - \\alpha^2}{\\alpha(1-\\alpha)} \\\\\n",
    "&=  \\frac{\\sum_i \\alpha_i ( \\alpha_i - \\alpha)\\theta_i }{\\alpha(1-\\alpha)} \\\\\n",
    "\\end{align*}"
   ]
  },
  {
   "cell_type": "markdown",
   "id": "6ee4dc1c",
   "metadata": {},
   "source": [
    "And,\n",
    "\n",
    "\\begin{align*}\n",
    "1 - \\chi &= 1 - \\sum_i \\frac{(\\alpha_i-\\alpha)^2}{\\alpha(1-\\alpha)}\\theta_i \\\\\n",
    "&= \\frac{\\alpha(1-\\alpha) - \\sum_i (\\alpha_i-\\alpha)^2\\theta_i}{\\alpha(1-\\alpha)} \\\\\n",
    "&= \\frac{\\alpha - \\alpha^2 - \\sum_i (\\alpha_i^2 + \\alpha^2 - 2\\alpha_i\\alpha)\\theta_i}{\\alpha(1-\\alpha)} \\\\\n",
    "&= \\frac{\\sum_i \\alpha_i \\theta_i  - \\sum_i \\alpha_i^2 \\theta_i - \\alpha^2  - \\alpha^2 + 2\\alpha^2}{\\alpha(1-\\alpha)} \\\\\n",
    "&= \\frac{\\sum_i \\alpha_i (1 - \\alpha_i) \\theta_i}{\\alpha(1-\\alpha)} \\\\\n",
    "\\end{align*}"
   ]
  },
  {
   "cell_type": "markdown",
   "id": "3bef9f92",
   "metadata": {},
   "source": [
    "<font color=red><b>We need to show that</b></font>\n",
    "\n",
    "We know that \n",
    "\\begin{align*}\n",
    "R K_i + W L_i =  \\frac{\\varepsilon-1}{\\varepsilon} P_i [F_K K_i + F_L L_i] = \\frac{\\varepsilon-1}{\\varepsilon} P_i Y_i = \\frac{\\varepsilon-1}{\\varepsilon} P_i^{1-\\varepsilon} Y P^{\\varepsilon}\n",
    "\\end{align*}\n",
    "\n",
    "Therefore,\n",
    "\\begin{align*}\n",
    "\\theta_i = \\frac{R K_i + W L_i}{\\sum_i R K_i + W L_i} =  \\left(\\frac{P_i}{P}\\right)^{1-\\varepsilon}\n",
    "\\end{align*}\n",
    "\n",
    "\n",
    "Then,\n",
    "\\begin{align*}\n",
    "\\frac{d \\ln \\theta_i}{d \\ln W/R} = (1-\\varepsilon) \\frac{d \\ln P_i/P}{d \\ln W/R} &= (1-\\varepsilon) \\frac{d \\ln P_i/R}{d \\ln W/R} - (1-\\varepsilon) \\frac{d \\ln P/R}{d \\ln W/R} \\\\\n",
    "\\end{align*}\n",
    "\n",
    "Using the cost minimization and Shephard's lemma, we know that a unit change in the factor price of cost function is equivalent to the Hicksian demand.\n",
    "\\begin{align*}\n",
    "\\frac{\\partial C(\\bar{y},K_i,L_i)/R}{\\partial \\ln P_i/R} = \\frac{\\partial C(\\bar{y},K_i,L_i)/R}{\\partial P_i/R} \\frac{P_i}{R} = \\frac{\\varepsilon-1}{\\varepsilon}\\frac{P_i Y_i}{R} =  \\frac{R K_i + W L_i}{R}\n",
    "\\end{align*}\n",
    "\n",
    "\\begin{align*}\n",
    "\\frac{\\partial C(\\bar{y},K_i,L_i)/R}{\\partial \\ln W/R} = \\frac{\\partial C(\\bar{y},K_i,L_i)/R}{\\partial W/R} \\frac{W}{R} = \\frac{W L_i}{R}\n",
    "\\end{align*}\n",
    "\n",
    "\n",
    "Therefore,\n",
    "\\begin{align*}\n",
    "\\frac{d \\ln P_i/R}{d \\ln W/R} = \\frac{\\frac{\\partial C(\\bar{y},K_i,L_i)/R}{\\partial \\ln W/R}}{\\frac{\\partial C(\\bar{y},K_i,L_i)/R}{\\partial \\ln P_i/R}} = \\frac{W L_i}{R K_i + W L_i} = 1 - \\alpha_i\n",
    "\\end{align*}\n",
    "\n",
    "In the same manner,\n",
    "\\begin{align*}\n",
    "\\frac{d \\ln P/R}{d \\ln W/R} = \\frac{\\frac{\\partial C(\\bar{y},K,L)/R}{\\partial \\ln W/R}}{\\frac{\\partial C(\\bar{y},K,L)/R}{\\partial \\ln P_i/R}} = \\frac{W L}{R K + W L} = 1 - \\alpha\n",
    "\\end{align*}\n",
    "\n",
    "Thus, we have\n",
    "\\begin{align*}\n",
    "\\frac{d \\ln \\theta_i}{d \\ln W/R} = (\\varepsilon -1)(\\alpha_i - \\alpha)\n",
    "\\end{align*}\n"
   ]
  },
  {
   "cell_type": "code",
   "execution_count": null,
   "id": "f564bf14",
   "metadata": {},
   "outputs": [],
   "source": []
  }
 ],
 "metadata": {
  "kernelspec": {
   "display_name": "Python 3 (ipykernel)",
   "language": "python",
   "name": "python3"
  },
  "language_info": {
   "codemirror_mode": {
    "name": "ipython",
    "version": 3
   },
   "file_extension": ".py",
   "mimetype": "text/x-python",
   "name": "python",
   "nbconvert_exporter": "python",
   "pygments_lexer": "ipython3",
   "version": "3.9.13"
  }
 },
 "nbformat": 4,
 "nbformat_minor": 5
}
