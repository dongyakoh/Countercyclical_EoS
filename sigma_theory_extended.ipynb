{
 "cells": [
  {
   "cell_type": "markdown",
   "id": "aa820ebe",
   "metadata": {},
   "source": [
    "## Benchmark + Firm Entry/Exit (OR 2021 Appendix, Clementi & Palazzo 2016)"
   ]
  },
  {
   "cell_type": "markdown",
   "id": "cf644ec9",
   "metadata": {},
   "source": [
    "- On top of benchmark model introduced by OR 2021, they also characterized the aggregate elasticity of substitution in a model with firm entry and exit.\n",
    "- There are a large continuum of entrepreneurs who draw a random CRS technology $\\tau$ from a exogenous distribution with CDF $T(\\tau)$ by paying a fixed cost $c^E$.\n",
    "- After observing the technology level, the entrepreneur can operate a plant with the technology after paying an overhead cost, $c^O$ units of output.\n",
    "- Given this model and as shown in Clementi & Palazzo 2016, there is a threshold $E_{\\tau}$ such that prospective entrants will enter if and only if they receive a draw greater than or equal to $E_{\\tau}$.\n",
    "- In an extended model with aggregate shocks, this threshold must vary by the shock, $E_{\\tau}(Z_t)$, where $Z_t$ indicates a set of aggregate shocks. But, given the expression of aggregate elasticity of substitution in a model with entry and exit, it may not only threshold that varies by aggregate shocks but also the cost share of capital, $\\alpha_{\\tau}(Z_t)$, and the expenditure share, $\\theta_{\\tau} (Z_t)$, of each plant and aggregate cost share of capital, $\\alpha(Z_t)$, should vary."
   ]
  },
  {
   "cell_type": "markdown",
   "id": "5997db16",
   "metadata": {},
   "source": [
    "Then, OR (2021) shows that the aggregate elasticity of substitution can be expressed as\n",
    "\n",
    "\\begin{align*}\n",
    "\\sigma^{agg} = (1 - \\chi) \\bar{\\sigma} + \\chi \\varepsilon + \\color{red}{\\int \\frac{\\alpha_{\\tau} - \\alpha}{\\alpha(1-\\alpha)} \\frac{dE_{\\tau}}{d \\ln w/r} \\theta_{\\tau} dT(\\tau)}\n",
    "\\end{align*}\n",
    "\n",
    "where\n",
    "\\begin{align*}\n",
    "\\chi &= \\frac{\\int (\\alpha_{\\tau} - \\alpha)^2 \\theta_{\\tau} E_{\\tau} dT(\\tau)}{\\alpha(1-\\alpha)} \\\\\n",
    "\\bar{\\sigma} &= \\frac{\\int \\alpha(1-\\alpha) \\theta_{\\tau} E_{\\tau} \\sigma_{\\tau} dT(\\tau)}{\\int \\alpha(1-\\alpha) \\theta_{\\tau} E_{\\tau}  dT(\\tau)} \\\\\n",
    "\\end{align*}\n"
   ]
  },
  {
   "cell_type": "markdown",
   "id": "42678ab7",
   "metadata": {},
   "source": [
    "Note that as a comparison the aggregate elasticity of substitution in a benchmark model was\n",
    "\n",
    "\\begin{align*}\n",
    "\\sigma^{agg} = (1 - \\chi) \\sigma + \\chi \\varepsilon\n",
    "\\end{align*}\n",
    "\n",
    "where \n",
    "\n",
    "\\begin{align*}\n",
    "\\chi = \\sum_i \\frac{(\\alpha_i-\\alpha)^2}{\\alpha(1-\\alpha)}\\theta_i\n",
    "\\end{align*}\n"
   ]
  },
  {
   "cell_type": "markdown",
   "id": "24f41795",
   "metadata": {},
   "source": [
    "<font color=blue>To test this model, we simulate Clementi & Palazzo (2016) and compute the aggregate elasticity of substitution for two economic states, $Z_g > Z_b$. </font>"
   ]
  },
  {
   "cell_type": "markdown",
   "id": "fa6c0a6c",
   "metadata": {},
   "source": [
    "## Benchmark + Implicit Taxes (Distortions) (Restuccia & Rogerson 2009)"
   ]
  },
  {
   "cell_type": "code",
   "execution_count": null,
   "id": "b9f8e5fa",
   "metadata": {},
   "outputs": [],
   "source": []
  }
 ],
 "metadata": {
  "kernelspec": {
   "display_name": "Python 3 (ipykernel)",
   "language": "python",
   "name": "python3"
  },
  "language_info": {
   "codemirror_mode": {
    "name": "ipython",
    "version": 3
   },
   "file_extension": ".py",
   "mimetype": "text/x-python",
   "name": "python",
   "nbconvert_exporter": "python",
   "pygments_lexer": "ipython3",
   "version": "3.9.13"
  }
 },
 "nbformat": 4,
 "nbformat_minor": 5
}
